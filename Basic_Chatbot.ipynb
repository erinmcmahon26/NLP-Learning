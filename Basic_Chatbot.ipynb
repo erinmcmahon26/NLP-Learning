{
  "nbformat": 4,
  "nbformat_minor": 0,
  "metadata": {
    "colab": {
      "name": "Basic_Chatbot.ipynb",
      "provenance": [],
      "authorship_tag": "ABX9TyPpO9dbebwVv3QPA7fujIv6",
      "include_colab_link": true
    },
    "kernelspec": {
      "name": "python3",
      "display_name": "Python 3"
    },
    "language_info": {
      "name": "python"
    }
  },
  "cells": [
    {
      "cell_type": "markdown",
      "metadata": {
        "id": "view-in-github",
        "colab_type": "text"
      },
      "source": [
        "<a href=\"https://colab.research.google.com/github/erinmcmahon26/NLP-Learning/blob/main/Basic_Chatbot.ipynb\" target=\"_parent\"><img src=\"https://colab.research.google.com/assets/colab-badge.svg\" alt=\"Open In Colab\"/></a>"
      ]
    },
    {
      "cell_type": "code",
      "execution_count": 1,
      "metadata": {
        "id": "0ZsNj0Yvugnq"
      },
      "outputs": [],
      "source": [
        "import re"
      ]
    },
    {
      "cell_type": "markdown",
      "source": [
        "Two types of regular expressions in Python (re and regex). Regex is more powerful and has more functionality than re and since we are building a really basic chatbot with limited capabilites, we are going to use re. "
      ],
      "metadata": {
        "id": "ZfRAma1LusMp"
      }
    },
    {
      "cell_type": "code",
      "source": [
        "r = \"(hi|hello|hey)[ ]*([a-z]*)\""
      ],
      "metadata": {
        "id": "wF-o-v3UupxU"
      },
      "execution_count": 19,
      "outputs": []
    },
    {
      "cell_type": "markdown",
      "source": [
        "\"[ ]\" is used to specify a character class and \"-\" is used to specify a range of characters.\n",
        "\n",
        "\"*\" is signifying that the preceding charater can occur 0 or more times and still match. For example, [ ]* states that hi, hello, or hey followed by any number of space ([ ]) characters will match. "
      ],
      "metadata": {
        "id": "DxrKHns4vvnb"
      }
    },
    {
      "cell_type": "code",
      "source": [
        "re.match(r, 'Hello Erin', flags=re.IGNORECASE)"
      ],
      "metadata": {
        "colab": {
          "base_uri": "https://localhost:8080/"
        },
        "id": "_iQWLRQPvHhs",
        "outputId": "27f137be-63b5-4b33-f67e-8f229be406fe"
      },
      "execution_count": 20,
      "outputs": [
        {
          "output_type": "execute_result",
          "data": {
            "text/plain": [
              "<re.Match object; span=(0, 10), match='Hello Erin'>"
            ]
          },
          "metadata": {},
          "execution_count": 20
        }
      ]
    },
    {
      "cell_type": "code",
      "source": [
        "re.match(r, \"hi ho, it's off to work I go\", flags=re.IGNORECASE)"
      ],
      "metadata": {
        "colab": {
          "base_uri": "https://localhost:8080/"
        },
        "id": "FMNV42nMvaAn",
        "outputId": "af7edf51-8e99-4afe-baea-7c143ac7e4c9"
      },
      "execution_count": 21,
      "outputs": [
        {
          "output_type": "execute_result",
          "data": {
            "text/plain": [
              "<re.Match object; span=(0, 5), match='hi ho'>"
            ]
          },
          "metadata": {},
          "execution_count": 21
        }
      ]
    },
    {
      "cell_type": "code",
      "source": [
        "re_greeting = re.compile(r, flags=re.IGNORECASE)"
      ],
      "metadata": {
        "id": "NmIG5RINvidx"
      },
      "execution_count": 22,
      "outputs": []
    },
    {
      "cell_type": "markdown",
      "source": [
        "re.compile is set to a variable so that we don't have to keep specifying the flags each time."
      ],
      "metadata": {
        "id": "0UUDYxfKxIWo"
      }
    },
    {
      "cell_type": "code",
      "source": [
        "re_greeting.match(\"Hello Erin\")"
      ],
      "metadata": {
        "colab": {
          "base_uri": "https://localhost:8080/"
        },
        "id": "7XmcEHNqxChv",
        "outputId": "766336c6-7e30-423e-a432-2d597570de41"
      },
      "execution_count": 23,
      "outputs": [
        {
          "output_type": "execute_result",
          "data": {
            "text/plain": [
              "<re.Match object; span=(0, 10), match='Hello Erin'>"
            ]
          },
          "metadata": {},
          "execution_count": 23
        }
      ]
    },
    {
      "cell_type": "markdown",
      "source": [
        "This code is very basic and cannot recognize mistakes as shown below:"
      ],
      "metadata": {
        "id": "Lt17U-OPxy0J"
      }
    },
    {
      "cell_type": "code",
      "source": [
        "re_greeting.match(\"Heppo Erin\")"
      ],
      "metadata": {
        "id": "rOjg66F_xe-E"
      },
      "execution_count": 24,
      "outputs": []
    }
  ]
}