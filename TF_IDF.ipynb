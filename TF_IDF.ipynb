{
  "nbformat": 4,
  "nbformat_minor": 0,
  "metadata": {
    "colab": {
      "name": "TF-IDF.ipynb",
      "provenance": [],
      "authorship_tag": "ABX9TyMoK69HPNLN/QAOl31lji/q",
      "include_colab_link": true
    },
    "kernelspec": {
      "name": "python3",
      "display_name": "Python 3"
    },
    "language_info": {
      "name": "python"
    }
  },
  "cells": [
    {
      "cell_type": "markdown",
      "metadata": {
        "id": "view-in-github",
        "colab_type": "text"
      },
      "source": [
        "<a href=\"https://colab.research.google.com/github/erinmcmahon26/NLP-Learning/blob/main/TF_IDF.ipynb\" target=\"_parent\"><img src=\"https://colab.research.google.com/assets/colab-badge.svg\" alt=\"Open In Colab\"/></a>"
      ]
    },
    {
      "cell_type": "markdown",
      "source": [
        "How do we decide which words are more important in a single document and accross an entire corpus? This importance will help decide relevant documents in a corpus based on keyword importance within each document. The goal is to find numerical representation of words that capture the importance of the words they represent."
      ],
      "metadata": {
        "id": "5emgZDn6MO1c"
      }
    },
    {
      "cell_type": "markdown",
      "source": [
        "### Bag of Words"
      ],
      "metadata": {
        "id": "2Um9f6b4NKWb"
      }
    },
    {
      "cell_type": "code",
      "source": [
        "sentence = \"Mary had a little lamb and the little lamb didn't like the rain.\""
      ],
      "metadata": {
        "id": "-8tAKeeFMOkE"
      },
      "execution_count": 46,
      "outputs": []
    },
    {
      "cell_type": "code",
      "source": [
        "import nltk\n",
        "#nltk.download('stopwords')"
      ],
      "metadata": {
        "colab": {
          "base_uri": "https://localhost:8080/"
        },
        "id": "EKV1HumQRco0",
        "outputId": "1ad86c30-aa05-4578-ee04-ae1d8ee4b339"
      },
      "execution_count": 23,
      "outputs": [
        {
          "output_type": "stream",
          "name": "stdout",
          "text": [
            "[nltk_data] Downloading package stopwords to /root/nltk_data...\n",
            "[nltk_data]   Unzipping corpora/stopwords.zip.\n"
          ]
        },
        {
          "output_type": "execute_result",
          "data": {
            "text/plain": [
              "True"
            ]
          },
          "metadata": {},
          "execution_count": 23
        }
      ]
    },
    {
      "cell_type": "code",
      "source": [
        "import string\n",
        "import re\n",
        "from nltk.tokenize import TreebankWordTokenizer\n",
        "\n",
        "def clean_doc(doc):\n",
        "# split into tokens by white space\n",
        "  tokenizer = TreebankWordTokenizer()\n",
        "  tokens = tokenizer.tokenize(sentence.lower())\n",
        "# prepare regex for char filtering\n",
        "  re_punc = re.compile('[%s]' % re.escape(string.punctuation)) # remove punctuation from each word\n",
        "  tokens = [re_punc.sub('', w) for w in tokens]\n",
        "# remove remaining tokens that are not alphabetic\n",
        "  tokens = [word for word in tokens if word.isalpha()]\n",
        "# filter out stop words\n",
        "  stop_words = set(stopwords.words('english'))\n",
        "  tokens = [w for w in tokens if not w in stop_words]\n",
        "# filter out short tokens\n",
        "  tokens = [word for word in tokens if len(word) > 1]\n",
        "  return tokens"
      ],
      "metadata": {
        "id": "bYkTNncfTf9D"
      },
      "execution_count": 48,
      "outputs": []
    },
    {
      "cell_type": "code",
      "source": [
        "tokens = clean_doc(sentence)\n",
        "tokens"
      ],
      "metadata": {
        "colab": {
          "base_uri": "https://localhost:8080/"
        },
        "id": "HIyfHqyhTlny",
        "outputId": "29984d90-a94f-4ce8-d3ed-19834d6aa841"
      },
      "execution_count": 51,
      "outputs": [
        {
          "output_type": "execute_result",
          "data": {
            "text/plain": [
              "['mary', 'little', 'lamb', 'little', 'lamb', 'nt', 'like', 'rain']"
            ]
          },
          "metadata": {},
          "execution_count": 51
        }
      ]
    },
    {
      "cell_type": "code",
      "source": [
        "from collections import Counter\n",
        "bow = Counter(tokens)\n",
        "bow.most_common(5)"
      ],
      "metadata": {
        "colab": {
          "base_uri": "https://localhost:8080/"
        },
        "id": "DDXMw103OKBQ",
        "outputId": "d41cad6e-0047-45f6-c70f-b4c34fbb4b09"
      },
      "execution_count": 52,
      "outputs": [
        {
          "output_type": "execute_result",
          "data": {
            "text/plain": [
              "[('little', 2), ('lamb', 2), ('mary', 1), ('nt', 1), ('like', 1)]"
            ]
          },
          "metadata": {},
          "execution_count": 52
        }
      ]
    },
    {
      "cell_type": "markdown",
      "source": [
        "The amount of times a word shows up in a document, is called term frequency (TF). Here the term frequency of 'little' is 2. Here we still have 'nt' as a token after using the TreebankWordTokenizer which may or may not be a problem later. We will keep it for now to focus on TF."
      ],
      "metadata": {
        "id": "Jarwb0elPBxg"
      }
    },
    {
      "cell_type": "code",
      "source": [
        "tf = bow['little']/len(bow)\n",
        "round(tf, 4)"
      ],
      "metadata": {
        "colab": {
          "base_uri": "https://localhost:8080/"
        },
        "id": "EqTFjFpLOq22",
        "outputId": "01652186-cd72-46a2-c3ef-cfcfa2cd5441"
      },
      "execution_count": 53,
      "outputs": [
        {
          "output_type": "execute_result",
          "data": {
            "text/plain": [
              "0.3333"
            ]
          },
          "metadata": {},
          "execution_count": 53
        }
      ]
    },
    {
      "cell_type": "markdown",
      "source": [
        "0.3333 is the # of unique tokens from the original document (sentence). This helps you look at the importance of the word within a specific document versus just the actual word count. "
      ],
      "metadata": {
        "id": "2uZyryPaUebs"
      }
    },
    {
      "cell_type": "code",
      "source": [
        ""
      ],
      "metadata": {
        "id": "QdikEL5RQdtE"
      },
      "execution_count": null,
      "outputs": []
    }
  ]
}