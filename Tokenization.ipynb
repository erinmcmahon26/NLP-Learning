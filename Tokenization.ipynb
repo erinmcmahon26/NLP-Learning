{
  "nbformat": 4,
  "nbformat_minor": 0,
  "metadata": {
    "colab": {
      "name": "Tokenization.ipynb",
      "provenance": [],
      "authorship_tag": "ABX9TyOFuW85Jy1pvN9sTCEhN+77",
      "include_colab_link": true
    },
    "kernelspec": {
      "name": "python3",
      "display_name": "Python 3"
    },
    "language_info": {
      "name": "python"
    }
  },
  "cells": [
    {
      "cell_type": "markdown",
      "metadata": {
        "id": "view-in-github",
        "colab_type": "text"
      },
      "source": [
        "<a href=\"https://colab.research.google.com/github/erinmcmahon26/NLP-Learning/blob/main/Tokenization.ipynb\" target=\"_parent\"><img src=\"https://colab.research.google.com/assets/colab-badge.svg\" alt=\"Open In Colab\"/></a>"
      ]
    },
    {
      "cell_type": "markdown",
      "source": [
        "### Separating tokens"
      ],
      "metadata": {
        "id": "OzTTXuYf-SAW"
      }
    },
    {
      "cell_type": "markdown",
      "source": [
        "The simplest way to tokenize is to use whitespace. Here we are splitting a sentence on the whitespace using .split() which defaults to splitting on whitespace. Two ways to accomplish the same thing:"
      ],
      "metadata": {
        "id": "evV6nzcR6Wnm"
      }
    },
    {
      "cell_type": "code",
      "execution_count": 1,
      "metadata": {
        "id": "h64TppWXd75R"
      },
      "outputs": [],
      "source": [
        "sentence = \"The dog is 12 years old and is named Spot.\""
      ]
    },
    {
      "cell_type": "code",
      "source": [
        "sentence.split()"
      ],
      "metadata": {
        "colab": {
          "base_uri": "https://localhost:8080/"
        },
        "id": "N8G2x4vX6Ttj",
        "outputId": "fee9acb7-1528-4d0f-e676-70d9dfcf0d87"
      },
      "execution_count": 2,
      "outputs": [
        {
          "output_type": "execute_result",
          "data": {
            "text/plain": [
              "['The', 'dog', 'is', '12', 'years', 'old', 'and', 'is', 'named', 'Spot.']"
            ]
          },
          "metadata": {},
          "execution_count": 2
        }
      ]
    },
    {
      "cell_type": "code",
      "source": [
        "str.split(sentence)"
      ],
      "metadata": {
        "colab": {
          "base_uri": "https://localhost:8080/"
        },
        "id": "cuTOxCBA6Vi2",
        "outputId": "13b8f6a2-7a2a-49d0-cac7-758e6f5a8197"
      },
      "execution_count": 3,
      "outputs": [
        {
          "output_type": "execute_result",
          "data": {
            "text/plain": [
              "['The', 'dog', 'is', '12', 'years', 'old', 'and', 'is', 'named', 'Spot.']"
            ]
          },
          "metadata": {},
          "execution_count": 3
        }
      ]
    },
    {
      "cell_type": "markdown",
      "source": [
        "The issue here is that it was unable to split \"Spot\" from \".\". Ideally, we want those to be separate tokens. We will deal with this later in the notebook."
      ],
      "metadata": {
        "id": "14xMhAbb61U-"
      }
    },
    {
      "cell_type": "markdown",
      "source": [
        "Below we will be creating numerical vector representations for each word, called one-hot vectors. We will use the numpy library to accomplish this. "
      ],
      "metadata": {
        "id": "lkZM0gwd7VMa"
      }
    },
    {
      "cell_type": "code",
      "source": [
        "import numpy as np"
      ],
      "metadata": {
        "id": "FHclS9xu6rHq"
      },
      "execution_count": 4,
      "outputs": []
    },
    {
      "cell_type": "code",
      "source": [
        "token_sequence = sentence.split()\n",
        "vocab = sorted(set(token_sequence))\n",
        "\n",
        "print(token_sequence)\n",
        "print(len(token_sequence))\n",
        "print(vocab)\n",
        "print(len(vocab))"
      ],
      "metadata": {
        "colab": {
          "base_uri": "https://localhost:8080/"
        },
        "id": "_-Y0fNdS7QTK",
        "outputId": "04528004-694e-4daa-ac4d-b4bcd217c7a9"
      },
      "execution_count": 5,
      "outputs": [
        {
          "output_type": "stream",
          "name": "stdout",
          "text": [
            "['The', 'dog', 'is', '12', 'years', 'old', 'and', 'is', 'named', 'Spot.']\n",
            "10\n",
            "['12', 'Spot.', 'The', 'and', 'dog', 'is', 'named', 'old', 'years']\n",
            "9\n"
          ]
        }
      ]
    },
    {
      "cell_type": "markdown",
      "source": [
        "The vocab list shows all of the unique words in the string, that is why its length is one less than the token_sequence variable, it only counted \"is\" once. The words are also sorted lexographically - numbers come before letters and capital letters come before lowercase. "
      ],
      "metadata": {
        "id": "X_4TQeJ49I9i"
      }
    },
    {
      "cell_type": "code",
      "source": [
        "','.join(vocab)"
      ],
      "metadata": {
        "colab": {
          "base_uri": "https://localhost:8080/",
          "height": 35
        },
        "id": "_wWG3xEw7vVG",
        "outputId": "1d0a0a03-768a-4d81-e67a-37cf771ed5c2"
      },
      "execution_count": 6,
      "outputs": [
        {
          "output_type": "execute_result",
          "data": {
            "text/plain": [
              "'12,Spot.,The,and,dog,is,named,old,years'"
            ],
            "application/vnd.google.colaboratory.intrinsic+json": {
              "type": "string"
            }
          },
          "metadata": {},
          "execution_count": 6
        }
      ]
    },
    {
      "cell_type": "code",
      "source": [
        "num_tokens = len(token_sequence)\n",
        "vocab_amount = len(vocab)"
      ],
      "metadata": {
        "id": "VWX9Hr8i8S_Q"
      },
      "execution_count": 7,
      "outputs": []
    },
    {
      "cell_type": "code",
      "source": [
        "onehot_vectors = np.zeros((num_tokens, vocab_amount), int)"
      ],
      "metadata": {
        "id": "GTWExY-J8bNB"
      },
      "execution_count": 8,
      "outputs": []
    },
    {
      "cell_type": "code",
      "source": [
        "for i, word in enumerate(token_sequence):\n",
        "  onehot_vectors[i, vocab.index(word)] = 1"
      ],
      "metadata": {
        "id": "jPFS0AOW8kGn"
      },
      "execution_count": 9,
      "outputs": []
    },
    {
      "cell_type": "code",
      "source": [
        "' '.join(vocab)"
      ],
      "metadata": {
        "colab": {
          "base_uri": "https://localhost:8080/",
          "height": 35
        },
        "id": "iQiat6nT8sXa",
        "outputId": "9f6c0ce2-67e9-423c-c5aa-5d8c2cb470d6"
      },
      "execution_count": 10,
      "outputs": [
        {
          "output_type": "execute_result",
          "data": {
            "text/plain": [
              "'12 Spot. The and dog is named old years'"
            ],
            "application/vnd.google.colaboratory.intrinsic+json": {
              "type": "string"
            }
          },
          "metadata": {},
          "execution_count": 10
        }
      ]
    },
    {
      "cell_type": "code",
      "source": [
        "onehot_vectors"
      ],
      "metadata": {
        "colab": {
          "base_uri": "https://localhost:8080/"
        },
        "id": "84cz3yA98u5C",
        "outputId": "58c68a66-771c-4060-a049-c04c90b0105d"
      },
      "execution_count": 11,
      "outputs": [
        {
          "output_type": "execute_result",
          "data": {
            "text/plain": [
              "array([[0, 0, 1, 0, 0, 0, 0, 0, 0],\n",
              "       [0, 0, 0, 0, 1, 0, 0, 0, 0],\n",
              "       [0, 0, 0, 0, 0, 1, 0, 0, 0],\n",
              "       [1, 0, 0, 0, 0, 0, 0, 0, 0],\n",
              "       [0, 0, 0, 0, 0, 0, 0, 0, 1],\n",
              "       [0, 0, 0, 0, 0, 0, 0, 1, 0],\n",
              "       [0, 0, 0, 1, 0, 0, 0, 0, 0],\n",
              "       [0, 0, 0, 0, 0, 1, 0, 0, 0],\n",
              "       [0, 0, 0, 0, 0, 0, 1, 0, 0],\n",
              "       [0, 1, 0, 0, 0, 0, 0, 0, 0]])"
            ]
          },
          "metadata": {},
          "execution_count": 11
        }
      ]
    },
    {
      "cell_type": "markdown",
      "source": [
        "The 1 in each row represents the word in the vocab variable. Each row is a vector for a single word. A 1 in a column indicates a word that was present at that position in the sentence (document). Each row is a binary row vector and can be used to represent a word in the NLP pipeline. This can be presented using a pandas dataframe:"
      ],
      "metadata": {
        "id": "11C22Eib92uw"
      }
    },
    {
      "cell_type": "code",
      "source": [
        "import pandas as pd"
      ],
      "metadata": {
        "id": "Ipg0ZqVt8zMp"
      },
      "execution_count": 12,
      "outputs": []
    },
    {
      "cell_type": "code",
      "source": [
        "pd.DataFrame(onehot_vectors, columns = vocab)"
      ],
      "metadata": {
        "colab": {
          "base_uri": "https://localhost:8080/",
          "height": 363
        },
        "id": "Y7thV4oA-Mjo",
        "outputId": "e04cfcc4-449d-449f-df72-7067fe097a95"
      },
      "execution_count": 13,
      "outputs": [
        {
          "output_type": "execute_result",
          "data": {
            "text/plain": [
              "   12  Spot.  The  and  dog  is  named  old  years\n",
              "0   0      0    1    0    0   0      0    0      0\n",
              "1   0      0    0    0    1   0      0    0      0\n",
              "2   0      0    0    0    0   1      0    0      0\n",
              "3   1      0    0    0    0   0      0    0      0\n",
              "4   0      0    0    0    0   0      0    0      1\n",
              "5   0      0    0    0    0   0      0    1      0\n",
              "6   0      0    0    1    0   0      0    0      0\n",
              "7   0      0    0    0    0   1      0    0      0\n",
              "8   0      0    0    0    0   0      1    0      0\n",
              "9   0      1    0    0    0   0      0    0      0"
            ],
            "text/html": [
              "\n",
              "  <div id=\"df-3f366dbc-11f2-4df1-bced-f9b8897a96ad\">\n",
              "    <div class=\"colab-df-container\">\n",
              "      <div>\n",
              "<style scoped>\n",
              "    .dataframe tbody tr th:only-of-type {\n",
              "        vertical-align: middle;\n",
              "    }\n",
              "\n",
              "    .dataframe tbody tr th {\n",
              "        vertical-align: top;\n",
              "    }\n",
              "\n",
              "    .dataframe thead th {\n",
              "        text-align: right;\n",
              "    }\n",
              "</style>\n",
              "<table border=\"1\" class=\"dataframe\">\n",
              "  <thead>\n",
              "    <tr style=\"text-align: right;\">\n",
              "      <th></th>\n",
              "      <th>12</th>\n",
              "      <th>Spot.</th>\n",
              "      <th>The</th>\n",
              "      <th>and</th>\n",
              "      <th>dog</th>\n",
              "      <th>is</th>\n",
              "      <th>named</th>\n",
              "      <th>old</th>\n",
              "      <th>years</th>\n",
              "    </tr>\n",
              "  </thead>\n",
              "  <tbody>\n",
              "    <tr>\n",
              "      <th>0</th>\n",
              "      <td>0</td>\n",
              "      <td>0</td>\n",
              "      <td>1</td>\n",
              "      <td>0</td>\n",
              "      <td>0</td>\n",
              "      <td>0</td>\n",
              "      <td>0</td>\n",
              "      <td>0</td>\n",
              "      <td>0</td>\n",
              "    </tr>\n",
              "    <tr>\n",
              "      <th>1</th>\n",
              "      <td>0</td>\n",
              "      <td>0</td>\n",
              "      <td>0</td>\n",
              "      <td>0</td>\n",
              "      <td>1</td>\n",
              "      <td>0</td>\n",
              "      <td>0</td>\n",
              "      <td>0</td>\n",
              "      <td>0</td>\n",
              "    </tr>\n",
              "    <tr>\n",
              "      <th>2</th>\n",
              "      <td>0</td>\n",
              "      <td>0</td>\n",
              "      <td>0</td>\n",
              "      <td>0</td>\n",
              "      <td>0</td>\n",
              "      <td>1</td>\n",
              "      <td>0</td>\n",
              "      <td>0</td>\n",
              "      <td>0</td>\n",
              "    </tr>\n",
              "    <tr>\n",
              "      <th>3</th>\n",
              "      <td>1</td>\n",
              "      <td>0</td>\n",
              "      <td>0</td>\n",
              "      <td>0</td>\n",
              "      <td>0</td>\n",
              "      <td>0</td>\n",
              "      <td>0</td>\n",
              "      <td>0</td>\n",
              "      <td>0</td>\n",
              "    </tr>\n",
              "    <tr>\n",
              "      <th>4</th>\n",
              "      <td>0</td>\n",
              "      <td>0</td>\n",
              "      <td>0</td>\n",
              "      <td>0</td>\n",
              "      <td>0</td>\n",
              "      <td>0</td>\n",
              "      <td>0</td>\n",
              "      <td>0</td>\n",
              "      <td>1</td>\n",
              "    </tr>\n",
              "    <tr>\n",
              "      <th>5</th>\n",
              "      <td>0</td>\n",
              "      <td>0</td>\n",
              "      <td>0</td>\n",
              "      <td>0</td>\n",
              "      <td>0</td>\n",
              "      <td>0</td>\n",
              "      <td>0</td>\n",
              "      <td>1</td>\n",
              "      <td>0</td>\n",
              "    </tr>\n",
              "    <tr>\n",
              "      <th>6</th>\n",
              "      <td>0</td>\n",
              "      <td>0</td>\n",
              "      <td>0</td>\n",
              "      <td>1</td>\n",
              "      <td>0</td>\n",
              "      <td>0</td>\n",
              "      <td>0</td>\n",
              "      <td>0</td>\n",
              "      <td>0</td>\n",
              "    </tr>\n",
              "    <tr>\n",
              "      <th>7</th>\n",
              "      <td>0</td>\n",
              "      <td>0</td>\n",
              "      <td>0</td>\n",
              "      <td>0</td>\n",
              "      <td>0</td>\n",
              "      <td>1</td>\n",
              "      <td>0</td>\n",
              "      <td>0</td>\n",
              "      <td>0</td>\n",
              "    </tr>\n",
              "    <tr>\n",
              "      <th>8</th>\n",
              "      <td>0</td>\n",
              "      <td>0</td>\n",
              "      <td>0</td>\n",
              "      <td>0</td>\n",
              "      <td>0</td>\n",
              "      <td>0</td>\n",
              "      <td>1</td>\n",
              "      <td>0</td>\n",
              "      <td>0</td>\n",
              "    </tr>\n",
              "    <tr>\n",
              "      <th>9</th>\n",
              "      <td>0</td>\n",
              "      <td>1</td>\n",
              "      <td>0</td>\n",
              "      <td>0</td>\n",
              "      <td>0</td>\n",
              "      <td>0</td>\n",
              "      <td>0</td>\n",
              "      <td>0</td>\n",
              "      <td>0</td>\n",
              "    </tr>\n",
              "  </tbody>\n",
              "</table>\n",
              "</div>\n",
              "      <button class=\"colab-df-convert\" onclick=\"convertToInteractive('df-3f366dbc-11f2-4df1-bced-f9b8897a96ad')\"\n",
              "              title=\"Convert this dataframe to an interactive table.\"\n",
              "              style=\"display:none;\">\n",
              "        \n",
              "  <svg xmlns=\"http://www.w3.org/2000/svg\" height=\"24px\"viewBox=\"0 0 24 24\"\n",
              "       width=\"24px\">\n",
              "    <path d=\"M0 0h24v24H0V0z\" fill=\"none\"/>\n",
              "    <path d=\"M18.56 5.44l.94 2.06.94-2.06 2.06-.94-2.06-.94-.94-2.06-.94 2.06-2.06.94zm-11 1L8.5 8.5l.94-2.06 2.06-.94-2.06-.94L8.5 2.5l-.94 2.06-2.06.94zm10 10l.94 2.06.94-2.06 2.06-.94-2.06-.94-.94-2.06-.94 2.06-2.06.94z\"/><path d=\"M17.41 7.96l-1.37-1.37c-.4-.4-.92-.59-1.43-.59-.52 0-1.04.2-1.43.59L10.3 9.45l-7.72 7.72c-.78.78-.78 2.05 0 2.83L4 21.41c.39.39.9.59 1.41.59.51 0 1.02-.2 1.41-.59l7.78-7.78 2.81-2.81c.8-.78.8-2.07 0-2.86zM5.41 20L4 18.59l7.72-7.72 1.47 1.35L5.41 20z\"/>\n",
              "  </svg>\n",
              "      </button>\n",
              "      \n",
              "  <style>\n",
              "    .colab-df-container {\n",
              "      display:flex;\n",
              "      flex-wrap:wrap;\n",
              "      gap: 12px;\n",
              "    }\n",
              "\n",
              "    .colab-df-convert {\n",
              "      background-color: #E8F0FE;\n",
              "      border: none;\n",
              "      border-radius: 50%;\n",
              "      cursor: pointer;\n",
              "      display: none;\n",
              "      fill: #1967D2;\n",
              "      height: 32px;\n",
              "      padding: 0 0 0 0;\n",
              "      width: 32px;\n",
              "    }\n",
              "\n",
              "    .colab-df-convert:hover {\n",
              "      background-color: #E2EBFA;\n",
              "      box-shadow: 0px 1px 2px rgba(60, 64, 67, 0.3), 0px 1px 3px 1px rgba(60, 64, 67, 0.15);\n",
              "      fill: #174EA6;\n",
              "    }\n",
              "\n",
              "    [theme=dark] .colab-df-convert {\n",
              "      background-color: #3B4455;\n",
              "      fill: #D2E3FC;\n",
              "    }\n",
              "\n",
              "    [theme=dark] .colab-df-convert:hover {\n",
              "      background-color: #434B5C;\n",
              "      box-shadow: 0px 1px 3px 1px rgba(0, 0, 0, 0.15);\n",
              "      filter: drop-shadow(0px 1px 2px rgba(0, 0, 0, 0.3));\n",
              "      fill: #FFFFFF;\n",
              "    }\n",
              "  </style>\n",
              "\n",
              "      <script>\n",
              "        const buttonEl =\n",
              "          document.querySelector('#df-3f366dbc-11f2-4df1-bced-f9b8897a96ad button.colab-df-convert');\n",
              "        buttonEl.style.display =\n",
              "          google.colab.kernel.accessAllowed ? 'block' : 'none';\n",
              "\n",
              "        async function convertToInteractive(key) {\n",
              "          const element = document.querySelector('#df-3f366dbc-11f2-4df1-bced-f9b8897a96ad');\n",
              "          const dataTable =\n",
              "            await google.colab.kernel.invokeFunction('convertToInteractive',\n",
              "                                                     [key], {});\n",
              "          if (!dataTable) return;\n",
              "\n",
              "          const docLinkHtml = 'Like what you see? Visit the ' +\n",
              "            '<a target=\"_blank\" href=https://colab.research.google.com/notebooks/data_table.ipynb>data table notebook</a>'\n",
              "            + ' to learn more about interactive tables.';\n",
              "          element.innerHTML = '';\n",
              "          dataTable['output_type'] = 'display_data';\n",
              "          await google.colab.output.renderOutput(dataTable, element);\n",
              "          const docLink = document.createElement('div');\n",
              "          docLink.innerHTML = docLinkHtml;\n",
              "          element.appendChild(docLink);\n",
              "        }\n",
              "      </script>\n",
              "    </div>\n",
              "  </div>\n",
              "  "
            ]
          },
          "metadata": {},
          "execution_count": 13
        }
      ]
    },
    {
      "cell_type": "markdown",
      "source": [
        "This becomes very impractical with large documents. There needs to be some form of dimension reduction for this process to work on a scale. You can do this by creating a bag-of-words vector (frequency vector) as it only counts the frequency of words, not their order, or you could OR the one-hot vectors into a binary bag-of-words. Below is what the sentence above looks like as a binary bag-of-words."
      ],
      "metadata": {
        "id": "zR6WObf3AGUS"
      }
    },
    {
      "cell_type": "code",
      "source": [
        "bow = {}\n",
        "for token in sentence.split():\n",
        "  bow[token] = 1\n",
        "sorted(bow.items())"
      ],
      "metadata": {
        "colab": {
          "base_uri": "https://localhost:8080/"
        },
        "id": "eP1f7Vk2-RQc",
        "outputId": "9e81dc68-91e0-4a38-fcb0-4de818dc13a9"
      },
      "execution_count": 14,
      "outputs": [
        {
          "output_type": "execute_result",
          "data": {
            "text/plain": [
              "[('12', 1),\n",
              " ('Spot.', 1),\n",
              " ('The', 1),\n",
              " ('and', 1),\n",
              " ('dog', 1),\n",
              " ('is', 1),\n",
              " ('named', 1),\n",
              " ('old', 1),\n",
              " ('years', 1)]"
            ]
          },
          "metadata": {},
          "execution_count": 14
        }
      ]
    },
    {
      "cell_type": "markdown",
      "source": [
        "This dictionary representation of the above sentence only cares about the words labeled with \"1\", it does not require a lot of bytes for each word, therefore saving a lot of space. "
      ],
      "metadata": {
        "id": "cR_L1dRYB-ZV"
      }
    },
    {
      "cell_type": "code",
      "source": [
        "# use pandas series for bow\n",
        "df = pd.DataFrame(pd.Series(dict([(token, 1) for token in sentence.split()])), columns=['sent']).T\n",
        "df"
      ],
      "metadata": {
        "colab": {
          "base_uri": "https://localhost:8080/",
          "height": 80
        },
        "id": "7QwWKp5ABplT",
        "outputId": "a8d1eee8-5c93-4a62-ecf3-0199484a4f5a"
      },
      "execution_count": 15,
      "outputs": [
        {
          "output_type": "execute_result",
          "data": {
            "text/plain": [
              "      The  dog  is  12  years  old  and  named  Spot.\n",
              "sent    1    1   1   1      1    1    1      1      1"
            ],
            "text/html": [
              "\n",
              "  <div id=\"df-ae20688d-f811-4c27-a961-b262bdf5f94d\">\n",
              "    <div class=\"colab-df-container\">\n",
              "      <div>\n",
              "<style scoped>\n",
              "    .dataframe tbody tr th:only-of-type {\n",
              "        vertical-align: middle;\n",
              "    }\n",
              "\n",
              "    .dataframe tbody tr th {\n",
              "        vertical-align: top;\n",
              "    }\n",
              "\n",
              "    .dataframe thead th {\n",
              "        text-align: right;\n",
              "    }\n",
              "</style>\n",
              "<table border=\"1\" class=\"dataframe\">\n",
              "  <thead>\n",
              "    <tr style=\"text-align: right;\">\n",
              "      <th></th>\n",
              "      <th>The</th>\n",
              "      <th>dog</th>\n",
              "      <th>is</th>\n",
              "      <th>12</th>\n",
              "      <th>years</th>\n",
              "      <th>old</th>\n",
              "      <th>and</th>\n",
              "      <th>named</th>\n",
              "      <th>Spot.</th>\n",
              "    </tr>\n",
              "  </thead>\n",
              "  <tbody>\n",
              "    <tr>\n",
              "      <th>sent</th>\n",
              "      <td>1</td>\n",
              "      <td>1</td>\n",
              "      <td>1</td>\n",
              "      <td>1</td>\n",
              "      <td>1</td>\n",
              "      <td>1</td>\n",
              "      <td>1</td>\n",
              "      <td>1</td>\n",
              "      <td>1</td>\n",
              "    </tr>\n",
              "  </tbody>\n",
              "</table>\n",
              "</div>\n",
              "      <button class=\"colab-df-convert\" onclick=\"convertToInteractive('df-ae20688d-f811-4c27-a961-b262bdf5f94d')\"\n",
              "              title=\"Convert this dataframe to an interactive table.\"\n",
              "              style=\"display:none;\">\n",
              "        \n",
              "  <svg xmlns=\"http://www.w3.org/2000/svg\" height=\"24px\"viewBox=\"0 0 24 24\"\n",
              "       width=\"24px\">\n",
              "    <path d=\"M0 0h24v24H0V0z\" fill=\"none\"/>\n",
              "    <path d=\"M18.56 5.44l.94 2.06.94-2.06 2.06-.94-2.06-.94-.94-2.06-.94 2.06-2.06.94zm-11 1L8.5 8.5l.94-2.06 2.06-.94-2.06-.94L8.5 2.5l-.94 2.06-2.06.94zm10 10l.94 2.06.94-2.06 2.06-.94-2.06-.94-.94-2.06-.94 2.06-2.06.94z\"/><path d=\"M17.41 7.96l-1.37-1.37c-.4-.4-.92-.59-1.43-.59-.52 0-1.04.2-1.43.59L10.3 9.45l-7.72 7.72c-.78.78-.78 2.05 0 2.83L4 21.41c.39.39.9.59 1.41.59.51 0 1.02-.2 1.41-.59l7.78-7.78 2.81-2.81c.8-.78.8-2.07 0-2.86zM5.41 20L4 18.59l7.72-7.72 1.47 1.35L5.41 20z\"/>\n",
              "  </svg>\n",
              "      </button>\n",
              "      \n",
              "  <style>\n",
              "    .colab-df-container {\n",
              "      display:flex;\n",
              "      flex-wrap:wrap;\n",
              "      gap: 12px;\n",
              "    }\n",
              "\n",
              "    .colab-df-convert {\n",
              "      background-color: #E8F0FE;\n",
              "      border: none;\n",
              "      border-radius: 50%;\n",
              "      cursor: pointer;\n",
              "      display: none;\n",
              "      fill: #1967D2;\n",
              "      height: 32px;\n",
              "      padding: 0 0 0 0;\n",
              "      width: 32px;\n",
              "    }\n",
              "\n",
              "    .colab-df-convert:hover {\n",
              "      background-color: #E2EBFA;\n",
              "      box-shadow: 0px 1px 2px rgba(60, 64, 67, 0.3), 0px 1px 3px 1px rgba(60, 64, 67, 0.15);\n",
              "      fill: #174EA6;\n",
              "    }\n",
              "\n",
              "    [theme=dark] .colab-df-convert {\n",
              "      background-color: #3B4455;\n",
              "      fill: #D2E3FC;\n",
              "    }\n",
              "\n",
              "    [theme=dark] .colab-df-convert:hover {\n",
              "      background-color: #434B5C;\n",
              "      box-shadow: 0px 1px 3px 1px rgba(0, 0, 0, 0.15);\n",
              "      filter: drop-shadow(0px 1px 2px rgba(0, 0, 0, 0.3));\n",
              "      fill: #FFFFFF;\n",
              "    }\n",
              "  </style>\n",
              "\n",
              "      <script>\n",
              "        const buttonEl =\n",
              "          document.querySelector('#df-ae20688d-f811-4c27-a961-b262bdf5f94d button.colab-df-convert');\n",
              "        buttonEl.style.display =\n",
              "          google.colab.kernel.accessAllowed ? 'block' : 'none';\n",
              "\n",
              "        async function convertToInteractive(key) {\n",
              "          const element = document.querySelector('#df-ae20688d-f811-4c27-a961-b262bdf5f94d');\n",
              "          const dataTable =\n",
              "            await google.colab.kernel.invokeFunction('convertToInteractive',\n",
              "                                                     [key], {});\n",
              "          if (!dataTable) return;\n",
              "\n",
              "          const docLinkHtml = 'Like what you see? Visit the ' +\n",
              "            '<a target=\"_blank\" href=https://colab.research.google.com/notebooks/data_table.ipynb>data table notebook</a>'\n",
              "            + ' to learn more about interactive tables.';\n",
              "          element.innerHTML = '';\n",
              "          dataTable['output_type'] = 'display_data';\n",
              "          await google.colab.output.renderOutput(dataTable, element);\n",
              "          const docLink = document.createElement('div');\n",
              "          docLink.innerHTML = docLinkHtml;\n",
              "          element.appendChild(docLink);\n",
              "        }\n",
              "      </script>\n",
              "    </div>\n",
              "  </div>\n",
              "  "
            ]
          },
          "metadata": {},
          "execution_count": 15
        }
      ]
    },
    {
      "cell_type": "code",
      "source": [
        "# what happens if we add another sentence?\n",
        "sentences = \"The dog is 12 years old and is named Spot.\\n\"\n",
        "sentences += \"He likes to go on long walks and take very long naps afterwards.\""
      ],
      "metadata": {
        "id": "s7Btdym1Cq6x"
      },
      "execution_count": 16,
      "outputs": []
    },
    {
      "cell_type": "code",
      "source": [
        "# corpus is a collection of text/audio organized into a dataset\n",
        "corpus = {}\n",
        "for i, sent in enumerate(sentences.split('\\n')):\n",
        "  corpus['sent{}'.format(i)] = dict((tok, 1) for tok in sent.split())\n",
        "df = pd.DataFrame.from_records(corpus).fillna(0).astype(int) # .T afterwards will flip df so sent are rows and the terms are columns\n",
        "df[df.columns[:10]]"
      ],
      "metadata": {
        "colab": {
          "base_uri": "https://localhost:8080/",
          "height": 676
        },
        "id": "s6wIdBXED4we",
        "outputId": "2f45c181-11aa-46cc-eb4e-b8b5cc8a708e"
      },
      "execution_count": 17,
      "outputs": [
        {
          "output_type": "execute_result",
          "data": {
            "text/plain": [
              "             sent0  sent1\n",
              "The              1      0\n",
              "dog              1      0\n",
              "is               1      0\n",
              "12               1      0\n",
              "years            1      0\n",
              "old              1      0\n",
              "and              1      1\n",
              "named            1      0\n",
              "Spot.            1      0\n",
              "He               0      1\n",
              "likes            0      1\n",
              "to               0      1\n",
              "go               0      1\n",
              "on               0      1\n",
              "long             0      1\n",
              "walks            0      1\n",
              "take             0      1\n",
              "very             0      1\n",
              "naps             0      1\n",
              "afterwards.      0      1"
            ],
            "text/html": [
              "\n",
              "  <div id=\"df-8f9a9a2e-7d68-487d-bfc6-9b98a9e6a19f\">\n",
              "    <div class=\"colab-df-container\">\n",
              "      <div>\n",
              "<style scoped>\n",
              "    .dataframe tbody tr th:only-of-type {\n",
              "        vertical-align: middle;\n",
              "    }\n",
              "\n",
              "    .dataframe tbody tr th {\n",
              "        vertical-align: top;\n",
              "    }\n",
              "\n",
              "    .dataframe thead th {\n",
              "        text-align: right;\n",
              "    }\n",
              "</style>\n",
              "<table border=\"1\" class=\"dataframe\">\n",
              "  <thead>\n",
              "    <tr style=\"text-align: right;\">\n",
              "      <th></th>\n",
              "      <th>sent0</th>\n",
              "      <th>sent1</th>\n",
              "    </tr>\n",
              "  </thead>\n",
              "  <tbody>\n",
              "    <tr>\n",
              "      <th>The</th>\n",
              "      <td>1</td>\n",
              "      <td>0</td>\n",
              "    </tr>\n",
              "    <tr>\n",
              "      <th>dog</th>\n",
              "      <td>1</td>\n",
              "      <td>0</td>\n",
              "    </tr>\n",
              "    <tr>\n",
              "      <th>is</th>\n",
              "      <td>1</td>\n",
              "      <td>0</td>\n",
              "    </tr>\n",
              "    <tr>\n",
              "      <th>12</th>\n",
              "      <td>1</td>\n",
              "      <td>0</td>\n",
              "    </tr>\n",
              "    <tr>\n",
              "      <th>years</th>\n",
              "      <td>1</td>\n",
              "      <td>0</td>\n",
              "    </tr>\n",
              "    <tr>\n",
              "      <th>old</th>\n",
              "      <td>1</td>\n",
              "      <td>0</td>\n",
              "    </tr>\n",
              "    <tr>\n",
              "      <th>and</th>\n",
              "      <td>1</td>\n",
              "      <td>1</td>\n",
              "    </tr>\n",
              "    <tr>\n",
              "      <th>named</th>\n",
              "      <td>1</td>\n",
              "      <td>0</td>\n",
              "    </tr>\n",
              "    <tr>\n",
              "      <th>Spot.</th>\n",
              "      <td>1</td>\n",
              "      <td>0</td>\n",
              "    </tr>\n",
              "    <tr>\n",
              "      <th>He</th>\n",
              "      <td>0</td>\n",
              "      <td>1</td>\n",
              "    </tr>\n",
              "    <tr>\n",
              "      <th>likes</th>\n",
              "      <td>0</td>\n",
              "      <td>1</td>\n",
              "    </tr>\n",
              "    <tr>\n",
              "      <th>to</th>\n",
              "      <td>0</td>\n",
              "      <td>1</td>\n",
              "    </tr>\n",
              "    <tr>\n",
              "      <th>go</th>\n",
              "      <td>0</td>\n",
              "      <td>1</td>\n",
              "    </tr>\n",
              "    <tr>\n",
              "      <th>on</th>\n",
              "      <td>0</td>\n",
              "      <td>1</td>\n",
              "    </tr>\n",
              "    <tr>\n",
              "      <th>long</th>\n",
              "      <td>0</td>\n",
              "      <td>1</td>\n",
              "    </tr>\n",
              "    <tr>\n",
              "      <th>walks</th>\n",
              "      <td>0</td>\n",
              "      <td>1</td>\n",
              "    </tr>\n",
              "    <tr>\n",
              "      <th>take</th>\n",
              "      <td>0</td>\n",
              "      <td>1</td>\n",
              "    </tr>\n",
              "    <tr>\n",
              "      <th>very</th>\n",
              "      <td>0</td>\n",
              "      <td>1</td>\n",
              "    </tr>\n",
              "    <tr>\n",
              "      <th>naps</th>\n",
              "      <td>0</td>\n",
              "      <td>1</td>\n",
              "    </tr>\n",
              "    <tr>\n",
              "      <th>afterwards.</th>\n",
              "      <td>0</td>\n",
              "      <td>1</td>\n",
              "    </tr>\n",
              "  </tbody>\n",
              "</table>\n",
              "</div>\n",
              "      <button class=\"colab-df-convert\" onclick=\"convertToInteractive('df-8f9a9a2e-7d68-487d-bfc6-9b98a9e6a19f')\"\n",
              "              title=\"Convert this dataframe to an interactive table.\"\n",
              "              style=\"display:none;\">\n",
              "        \n",
              "  <svg xmlns=\"http://www.w3.org/2000/svg\" height=\"24px\"viewBox=\"0 0 24 24\"\n",
              "       width=\"24px\">\n",
              "    <path d=\"M0 0h24v24H0V0z\" fill=\"none\"/>\n",
              "    <path d=\"M18.56 5.44l.94 2.06.94-2.06 2.06-.94-2.06-.94-.94-2.06-.94 2.06-2.06.94zm-11 1L8.5 8.5l.94-2.06 2.06-.94-2.06-.94L8.5 2.5l-.94 2.06-2.06.94zm10 10l.94 2.06.94-2.06 2.06-.94-2.06-.94-.94-2.06-.94 2.06-2.06.94z\"/><path d=\"M17.41 7.96l-1.37-1.37c-.4-.4-.92-.59-1.43-.59-.52 0-1.04.2-1.43.59L10.3 9.45l-7.72 7.72c-.78.78-.78 2.05 0 2.83L4 21.41c.39.39.9.59 1.41.59.51 0 1.02-.2 1.41-.59l7.78-7.78 2.81-2.81c.8-.78.8-2.07 0-2.86zM5.41 20L4 18.59l7.72-7.72 1.47 1.35L5.41 20z\"/>\n",
              "  </svg>\n",
              "      </button>\n",
              "      \n",
              "  <style>\n",
              "    .colab-df-container {\n",
              "      display:flex;\n",
              "      flex-wrap:wrap;\n",
              "      gap: 12px;\n",
              "    }\n",
              "\n",
              "    .colab-df-convert {\n",
              "      background-color: #E8F0FE;\n",
              "      border: none;\n",
              "      border-radius: 50%;\n",
              "      cursor: pointer;\n",
              "      display: none;\n",
              "      fill: #1967D2;\n",
              "      height: 32px;\n",
              "      padding: 0 0 0 0;\n",
              "      width: 32px;\n",
              "    }\n",
              "\n",
              "    .colab-df-convert:hover {\n",
              "      background-color: #E2EBFA;\n",
              "      box-shadow: 0px 1px 2px rgba(60, 64, 67, 0.3), 0px 1px 3px 1px rgba(60, 64, 67, 0.15);\n",
              "      fill: #174EA6;\n",
              "    }\n",
              "\n",
              "    [theme=dark] .colab-df-convert {\n",
              "      background-color: #3B4455;\n",
              "      fill: #D2E3FC;\n",
              "    }\n",
              "\n",
              "    [theme=dark] .colab-df-convert:hover {\n",
              "      background-color: #434B5C;\n",
              "      box-shadow: 0px 1px 3px 1px rgba(0, 0, 0, 0.15);\n",
              "      filter: drop-shadow(0px 1px 2px rgba(0, 0, 0, 0.3));\n",
              "      fill: #FFFFFF;\n",
              "    }\n",
              "  </style>\n",
              "\n",
              "      <script>\n",
              "        const buttonEl =\n",
              "          document.querySelector('#df-8f9a9a2e-7d68-487d-bfc6-9b98a9e6a19f button.colab-df-convert');\n",
              "        buttonEl.style.display =\n",
              "          google.colab.kernel.accessAllowed ? 'block' : 'none';\n",
              "\n",
              "        async function convertToInteractive(key) {\n",
              "          const element = document.querySelector('#df-8f9a9a2e-7d68-487d-bfc6-9b98a9e6a19f');\n",
              "          const dataTable =\n",
              "            await google.colab.kernel.invokeFunction('convertToInteractive',\n",
              "                                                     [key], {});\n",
              "          if (!dataTable) return;\n",
              "\n",
              "          const docLinkHtml = 'Like what you see? Visit the ' +\n",
              "            '<a target=\"_blank\" href=https://colab.research.google.com/notebooks/data_table.ipynb>data table notebook</a>'\n",
              "            + ' to learn more about interactive tables.';\n",
              "          element.innerHTML = '';\n",
              "          dataTable['output_type'] = 'display_data';\n",
              "          await google.colab.output.renderOutput(dataTable, element);\n",
              "          const docLink = document.createElement('div');\n",
              "          docLink.innerHTML = docLinkHtml;\n",
              "          element.appendChild(docLink);\n",
              "        }\n",
              "      </script>\n",
              "    </div>\n",
              "  </div>\n",
              "  "
            ]
          },
          "metadata": {},
          "execution_count": 17
        }
      ]
    },
    {
      "cell_type": "markdown",
      "source": [
        "Here we are splitting on \\n but can also use .splitlines(). Here we can see the first 10 tokens."
      ],
      "metadata": {
        "id": "2o4uNs4DFZkJ"
      }
    },
    {
      "cell_type": "markdown",
      "source": [
        "We can check for overlap between sentences by counting the number of overlapping tokens using a dot product. Measuring the bag of words overlap for two vectors (sentences in this case), we can gain a good understanding of how similar they are with the words they use, which can also give an idea of how similar they are in meaning as well. "
      ],
      "metadata": {
        "id": "ia97vqHk8KK8"
      }
    },
    {
      "cell_type": "code",
      "source": [
        "df.sent0.dot(df.sent1)"
      ],
      "metadata": {
        "id": "sX_Jbsu7E5Rd",
        "colab": {
          "base_uri": "https://localhost:8080/"
        },
        "outputId": "e69a6235-81f8-4968-acf1-665b1de83bc2"
      },
      "execution_count": 18,
      "outputs": [
        {
          "output_type": "execute_result",
          "data": {
            "text/plain": [
              "1"
            ]
          },
          "metadata": {},
          "execution_count": 18
        }
      ]
    },
    {
      "cell_type": "markdown",
      "source": [
        "This is telling us there is one word that is used in both sent0 and sent1. This overlap of words is a measure of their similarity."
      ],
      "metadata": {
        "id": "4jlHW-tk9jGZ"
      }
    },
    {
      "cell_type": "markdown",
      "source": [
        "### Separating tokens on more than just whitespace"
      ],
      "metadata": {
        "id": "4Kh7cjwo-LG5"
      }
    },
    {
      "cell_type": "code",
      "source": [
        "import re\n",
        "tokens = re.split(r'[-\\s.,;!?]+', sentence)\n",
        "tokens"
      ],
      "metadata": {
        "colab": {
          "base_uri": "https://localhost:8080/"
        },
        "id": "k4-cg0FB9flG",
        "outputId": "7f5e4c41-54b4-48b8-fdc5-2631a42dc769"
      },
      "execution_count": 19,
      "outputs": [
        {
          "output_type": "execute_result",
          "data": {
            "text/plain": [
              "['The', 'dog', 'is', '12', 'years', 'old', 'and', 'is', 'named', 'Spot', '']"
            ]
          },
          "metadata": {},
          "execution_count": 19
        }
      ]
    },
    {
      "cell_type": "markdown",
      "source": [
        "Here we are using the re libaray to define what we want the tokens to be split on. The r (regular expression) statement states we want to split the sentence on whitespace or the listed punctuation that occurs at least once. Regular expression will not be discussed further in this notebook but can easily be found online or in Appendix B in the book. Here we mainly wanted to take the period off of \"Spot.\" Now we have to filter out the whitespace token as we don't want to include that in our analysis."
      ],
      "metadata": {
        "id": "nwldrLvS-uzt"
      }
    },
    {
      "cell_type": "markdown",
      "source": [
        "NOTE: Regex library will eventually replace re library."
      ],
      "metadata": {
        "id": "psQOfG8AERNR"
      }
    },
    {
      "cell_type": "code",
      "source": [
        "#for loop\n",
        "tokens_0 = []\n",
        "for x in tokens:\n",
        "  if x and x != '- \\t\\n.,;!?': \n",
        "    tokens_0.append(x)\n",
        "tokens_0"
      ],
      "metadata": {
        "colab": {
          "base_uri": "https://localhost:8080/"
        },
        "id": "2j28spr1ADoS",
        "outputId": "1ee8e843-70e6-424f-ecf2-9f9c2a676d10"
      },
      "execution_count": 20,
      "outputs": [
        {
          "output_type": "execute_result",
          "data": {
            "text/plain": [
              "['The', 'dog', 'is', '12', 'years', 'old', 'and', 'is', 'named', 'Spot']"
            ]
          },
          "metadata": {},
          "execution_count": 20
        }
      ]
    },
    {
      "cell_type": "code",
      "source": [
        "# list comprhension\n",
        "tokens_2 = [x for x in tokens if x and x not in '- \\t\\n.,;!?'] \n",
        "tokens_2"
      ],
      "metadata": {
        "colab": {
          "base_uri": "https://localhost:8080/"
        },
        "id": "tmYO--9zAah-",
        "outputId": "ec756ac9-c31c-45c8-d538-f180194294bc"
      },
      "execution_count": 21,
      "outputs": [
        {
          "output_type": "execute_result",
          "data": {
            "text/plain": [
              "['The', 'dog', 'is', '12', 'years', 'old', 'and', 'is', 'named', 'Spot']"
            ]
          },
          "metadata": {},
          "execution_count": 21
        }
      ]
    },
    {
      "cell_type": "code",
      "source": [
        "# using lambda \n",
        "tokens_1 = list(filter(lambda x:x if x and x not in '- \\t\\n.,;!?' else None, tokens))\n",
        "tokens_1"
      ],
      "metadata": {
        "colab": {
          "base_uri": "https://localhost:8080/"
        },
        "id": "lbnxQgQHCrXh",
        "outputId": "0765aacc-3bc9-4074-845f-f3ac728f5e1a"
      },
      "execution_count": 22,
      "outputs": [
        {
          "output_type": "execute_result",
          "data": {
            "text/plain": [
              "['The', 'dog', 'is', '12', 'years', 'old', 'and', 'is', 'named', 'Spot']"
            ]
          },
          "metadata": {},
          "execution_count": 22
        }
      ]
    },
    {
      "cell_type": "code",
      "source": [
        "#!pip install regex"
      ],
      "metadata": {
        "id": "H9QvLtGQCKj_"
      },
      "execution_count": 23,
      "outputs": []
    },
    {
      "cell_type": "markdown",
      "source": [
        "### Tokenizer Libraries"
      ],
      "metadata": {
        "id": "MFmzme_jEqCE"
      }
    },
    {
      "cell_type": "markdown",
      "source": [
        "Many different libraries. Here we look at NLTK."
      ],
      "metadata": {
        "id": "4F4Sx0VvGkNm"
      }
    },
    {
      "cell_type": "code",
      "source": [
        "import nltk\n",
        "from nltk.tokenize import RegexpTokenizer"
      ],
      "metadata": {
        "id": "XzoA6oZcEchC"
      },
      "execution_count": 24,
      "outputs": []
    },
    {
      "cell_type": "code",
      "source": [
        "sentence2 = \"I don't know how to dance.\""
      ],
      "metadata": {
        "id": "cYnq7H44FcRR"
      },
      "execution_count": 25,
      "outputs": []
    },
    {
      "cell_type": "code",
      "source": [
        "tokenizer = RegexpTokenizer(r'\\w+|$[0-9.]+|\\S+')\n",
        "tokenizer.tokenize(sentence2)"
      ],
      "metadata": {
        "colab": {
          "base_uri": "https://localhost:8080/"
        },
        "id": "lAfyC0XeE0NV",
        "outputId": "f537a016-8f76-426e-a210-9307b2263704"
      },
      "execution_count": 26,
      "outputs": [
        {
          "output_type": "execute_result",
          "data": {
            "text/plain": [
              "['I', 'don', \"'t\", 'know', 'how', 'to', 'dance', '.']"
            ]
          },
          "metadata": {},
          "execution_count": 26
        }
      ]
    },
    {
      "cell_type": "code",
      "source": [
        "from nltk.tokenize import TreebankWordTokenizer\n",
        "tokenizer2 = TreebankWordTokenizer()\n",
        "tokenizer2.tokenize(sentence2)"
      ],
      "metadata": {
        "colab": {
          "base_uri": "https://localhost:8080/"
        },
        "id": "d_WmEPHgFBRg",
        "outputId": "5d71ed42-98cb-4c35-a5dd-402cd624583f"
      },
      "execution_count": 27,
      "outputs": [
        {
          "output_type": "execute_result",
          "data": {
            "text/plain": [
              "['I', 'do', \"n't\", 'know', 'how', 'to', 'dance', '.']"
            ]
          },
          "metadata": {},
          "execution_count": 27
        }
      ]
    },
    {
      "cell_type": "markdown",
      "source": [
        "These tokenizers do very similar things but the TreebankWork tokenizer seperates contractions differently to acknowledge that don't is two words and don is not the stem like with the RegexpTokenizer. "
      ],
      "metadata": {
        "id": "AsPy8AM0Fr2Z"
      }
    },
    {
      "cell_type": "markdown",
      "source": [
        "### N-grams"
      ],
      "metadata": {
        "id": "KaORobWFGqLJ"
      }
    },
    {
      "cell_type": "markdown",
      "source": [
        "n-grams: n=# of words your want to keep together. 2-grams means we want to keep a pair of words. We use this when we want to convey/keep meaning with a set of words. "
      ],
      "metadata": {
        "id": "QWT0iFt8G3En"
      }
    },
    {
      "cell_type": "code",
      "source": [
        "# here we want to keep ice cream together\n",
        "from nltk.util import ngrams\n",
        "sentence3 = \"We all scream for ice cream\"\n",
        "tokens3 = re.split(r'[-\\s.,;!?]+',sentence3)\n",
        "tokens3"
      ],
      "metadata": {
        "colab": {
          "base_uri": "https://localhost:8080/"
        },
        "id": "odQEE1kNFULo",
        "outputId": "348a9e1b-f2a7-4256-a5ac-680820d30483"
      },
      "execution_count": 28,
      "outputs": [
        {
          "output_type": "execute_result",
          "data": {
            "text/plain": [
              "['We', 'all', 'scream', 'for', 'ice', 'cream']"
            ]
          },
          "metadata": {},
          "execution_count": 28
        }
      ]
    },
    {
      "cell_type": "code",
      "source": [
        "two_grams = list(ngrams(tokens3,2))\n",
        "two_grams"
      ],
      "metadata": {
        "colab": {
          "base_uri": "https://localhost:8080/"
        },
        "id": "DheZ9srUIChq",
        "outputId": "14f1fb66-192c-4a9a-b81d-9f700bb148c3"
      },
      "execution_count": 29,
      "outputs": [
        {
          "output_type": "execute_result",
          "data": {
            "text/plain": [
              "[('We', 'all'),\n",
              " ('all', 'scream'),\n",
              " ('scream', 'for'),\n",
              " ('for', 'ice'),\n",
              " ('ice', 'cream')]"
            ]
          },
          "metadata": {},
          "execution_count": 29
        }
      ]
    },
    {
      "cell_type": "code",
      "source": [
        "[\" \".join(x) for x in two_grams]"
      ],
      "metadata": {
        "colab": {
          "base_uri": "https://localhost:8080/"
        },
        "id": "zyyocU3HJQdy",
        "outputId": "da42ef42-5a29-41e2-a847-814e631c53fe"
      },
      "execution_count": 30,
      "outputs": [
        {
          "output_type": "execute_result",
          "data": {
            "text/plain": [
              "['We all', 'all scream', 'scream for', 'for ice', 'ice cream']"
            ]
          },
          "metadata": {},
          "execution_count": 30
        }
      ]
    },
    {
      "cell_type": "markdown",
      "source": [
        "Not all of the ngrams are useful and can often be counter productive. We really only want the ngram of ice cream here and nothing else, so we need to filter out the unnecessary ngrams. "
      ],
      "metadata": {
        "id": "AdQd_4YFJ9o-"
      }
    },
    {
      "cell_type": "markdown",
      "source": [
        "Stop words filter exludes words that occur with frequency/less information. Examples include: a, an, the, this, etc. Taking out these words can decrease meaning though, which means we have to create higher # grams (which can have different issues). "
      ],
      "metadata": {
        "id": "JUfpgW3dKRGo"
      }
    },
    {
      "cell_type": "code",
      "source": [
        "# stop word filter example\n",
        "# or use nltk.download('stopwords') --> complete list of \"canonical\" stop words\n",
        "\n",
        "stop_words = ['a', 'an', 'the', 'on', 'of', 'off', 'this', 'is']\n",
        "stop_tokens = ['the', 'house', 'is', 'on', 'fire']\n",
        "tokens_without_stopwords = [x for x in stop_tokens if x not in stop_words]\n",
        "print(tokens_without_stopwords)"
      ],
      "metadata": {
        "colab": {
          "base_uri": "https://localhost:8080/"
        },
        "id": "ETxm-l6EJlm-",
        "outputId": "b0f85c4c-e172-4ea8-ab10-07d9eab25f55"
      },
      "execution_count": 31,
      "outputs": [
        {
          "output_type": "stream",
          "name": "stdout",
          "text": [
            "['house', 'fire']\n"
          ]
        }
      ]
    },
    {
      "cell_type": "markdown",
      "source": [
        "### Normalizing Vocabulary "
      ],
      "metadata": {
        "id": "lPnjFjHrN4O9"
      }
    },
    {
      "cell_type": "markdown",
      "source": [
        "A vocabulary reduction technique that combines similar tokens into a single normalized form. "
      ],
      "metadata": {
        "id": "rfbTW4dAQWiP"
      }
    },
    {
      "cell_type": "markdown",
      "source": [
        "#### Case Folding - consolidate words with different capitalization"
      ],
      "metadata": {
        "id": "0ptKYnw7QiPV"
      }
    },
    {
      "cell_type": "code",
      "source": [
        "cap_words = ['Hello', 'Cat', 'Ball']\n",
        "case_folding = [x.lower() for x in cap_words]\n",
        "case_folding"
      ],
      "metadata": {
        "colab": {
          "base_uri": "https://localhost:8080/"
        },
        "id": "t9yEp3tjLlf-",
        "outputId": "46035842-2318-42b2-ad0b-6c574bda6cd2"
      },
      "execution_count": 32,
      "outputs": [
        {
          "output_type": "execute_result",
          "data": {
            "text/plain": [
              "['hello', 'cat', 'ball']"
            ]
          },
          "metadata": {},
          "execution_count": 32
        }
      ]
    },
    {
      "cell_type": "markdown",
      "source": [
        "This can be helpful or it can take away important meaning. One method is just to lower case the first word in a sentence in order to preserve meaning with other capitalizations later on in the sentence. Case folding is often not performed due to the loss of information. "
      ],
      "metadata": {
        "id": "xjyzx1mIRyZ4"
      }
    },
    {
      "cell_type": "markdown",
      "source": [
        "#### Stemming - identifying a common stem among various forms of a word"
      ],
      "metadata": {
        "id": "-lBu6DuCSh_O"
      }
    },
    {
      "cell_type": "markdown",
      "source": [
        "This can be a great dimension reducation technique and help with improving recall but has some cons as well as it can effect precision. "
      ],
      "metadata": {
        "id": "V5GJia1QTBMh"
      }
    },
    {
      "cell_type": "code",
      "source": [
        "from nltk.stem.porter import PorterStemmer\n",
        "stemmer = PorterStemmer()\n",
        "' '.join([stemmer.stem(w).strip(\"'\") for w in \"dish washer's washed dishes\".split()])"
      ],
      "metadata": {
        "colab": {
          "base_uri": "https://localhost:8080/",
          "height": 35
        },
        "id": "K89T_eOzRlwn",
        "outputId": "97278111-f506-4f02-8ecc-835c26c046fe"
      },
      "execution_count": 33,
      "outputs": [
        {
          "output_type": "execute_result",
          "data": {
            "text/plain": [
              "'dish washer wash dish'"
            ],
            "application/vnd.google.colaboratory.intrinsic+json": {
              "type": "string"
            }
          },
          "metadata": {},
          "execution_count": 33
        }
      ]
    },
    {
      "cell_type": "markdown",
      "source": [
        "#### Lemmatization - normalization to the semantic root of a word"
      ],
      "metadata": {
        "id": "Y3PrqfNiT8NS"
      }
    },
    {
      "cell_type": "markdown",
      "source": [
        "This method could be more accurate than stemming or case folding due to its ability to keep meaning. It makes sure words with similar meanings are consolidated together. "
      ],
      "metadata": {
        "id": "ntlJVpBiUZ6i"
      }
    },
    {
      "cell_type": "code",
      "source": [
        "from nltk.classify.rte_classify import lemmatize\n",
        "#nltk.download('wordnet')\n",
        "from nltk.stem import WordNetLemmatizer\n",
        "lemmatizer = WordNetLemmatizer()\n",
        "lemmatizer.lemmatize(\"better\")"
      ],
      "metadata": {
        "colab": {
          "base_uri": "https://localhost:8080/",
          "height": 71
        },
        "id": "-Ek-sd-mTwt0",
        "outputId": "dc796631-b23a-4662-9a90-0462d49bc25c"
      },
      "execution_count": 34,
      "outputs": [
        {
          "output_type": "stream",
          "name": "stdout",
          "text": [
            "[nltk_data] Downloading package wordnet to /root/nltk_data...\n",
            "[nltk_data]   Unzipping corpora/wordnet.zip.\n"
          ]
        },
        {
          "output_type": "execute_result",
          "data": {
            "text/plain": [
              "'better'"
            ],
            "application/vnd.google.colaboratory.intrinsic+json": {
              "type": "string"
            }
          },
          "metadata": {},
          "execution_count": 34
        }
      ]
    },
    {
      "cell_type": "code",
      "source": [
        "# n=noun, a indicates an adjective\n",
        "print(lemmatizer.lemmatize(\"better\", pos = \"a\"))\n",
        "print(lemmatizer.lemmatize(\"better\", pos = \"n\"))"
      ],
      "metadata": {
        "colab": {
          "base_uri": "https://localhost:8080/"
        },
        "id": "P-kf2eRfVFtK",
        "outputId": "3252a77d-d05e-4c58-cdd8-3a6c68b96f8c"
      },
      "execution_count": 38,
      "outputs": [
        {
          "output_type": "stream",
          "name": "stdout",
          "text": [
            "good\n",
            "better\n"
          ]
        }
      ]
    },
    {
      "cell_type": "markdown",
      "source": [
        "The firs lemmatizer did not work due to not setting a pos, it will assumme it is a noun first. "
      ],
      "metadata": {
        "id": "E1y2jdQEVvft"
      }
    },
    {
      "cell_type": "markdown",
      "source": [
        "NOTE: Try to avoid using stemming/lemmatization for large English datasets. If there is limited data then these could be potentially useful. "
      ],
      "metadata": {
        "id": "8mjWOmmVWbJp"
      }
    },
    {
      "cell_type": "code",
      "source": [
        ""
      ],
      "metadata": {
        "id": "XoHmY7gqVSQs"
      },
      "execution_count": null,
      "outputs": []
    }
  ]
}